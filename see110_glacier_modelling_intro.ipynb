{
 "cells": [
  {
   "cell_type": "markdown",
   "id": "e7b96367-db18-4003-90f6-07cc42a884f3",
   "metadata": {},
   "source": [
    "# SEE110 Klimatmodellering: Glaciärer i Skandinavien under 2000-talet\n",
    "Introduktions-notebook för projektet Glaciärmodellering i kursen SEE110 Klimatmodellering.\n",
    "\n",
    "<div>\n",
    "<div>\n",
    "<img src=\"https://docs.oggm.org/en/stable/_static/logos/oggm_l_alpha.png\" width=\"300\" align=\"left\"/>\n",
    "</div>\n",
    "<div>\n",
    "<img src=\"https://edu.oggm.org/en/latest/_static/logos/oggm_edu_bulb_l_alpha.png\" width=\"300\" align=\"left\"/>\n",
    "</div>\n",
    "</div>"
   ]
  },
  {
   "cell_type": "code",
   "execution_count": null,
   "id": "bda99401-7154-4a98-bd91-e8b43c6387ba",
   "metadata": {},
   "outputs": [],
   "source": [
    "import cartopy.crs as ccrs\n",
    "import geopandas as gpd\n",
    "import matplotlib.pyplot as plt\n",
    "import numpy as np\n",
    "import oggm.cfg\n",
    "import pandas as pd\n",
    "import salem\n",
    "import seaborn as sns\n",
    "import see110_utils\n",
    "import xarray as xr\n",
    "from oggm import graphics, tasks, utils, workflow\n",
    "\n",
    "sns.set_context(\"notebook\")  # plot defaults"
   ]
  },
  {
   "cell_type": "code",
   "execution_count": null,
   "id": "6e9feda1-9f52-4914-ad8b-5918a9f83c05",
   "metadata": {},
   "outputs": [],
   "source": [
    "# OGGM options\n",
    "oggm.cfg.initialize(logging_level=\"WARNING\")\n",
    "oggm.cfg.PARAMS[\"min_ice_thick_for_length\"] = 1  # a glacier is when ice thicker than 1m\n",
    "oggm.cfg.PARAMS[\"store_model_geometry\"] = True"
   ]
  },
  {
   "cell_type": "markdown",
   "id": "271fac68-c559-467b-84c6-59a67d81989e",
   "metadata": {},
   "source": [
    "## Bestämma projektmapp\n",
    "Det första du måste göra är att bestämma vart du vill att projektet och dess data ska sparas.\n",
    "Detta gör du genom att sätta `oggm.cfg.PATHS[\"working_dir\"]` till den absoluta sökvägen för mappen.\n",
    "\n"
   ]
  },
  {
   "cell_type": "code",
   "execution_count": null,
   "id": "0bf8ae86-e1ed-48e2-97fb-b8ecf45b724e",
   "metadata": {},
   "outputs": [],
   "source": [
    "# Detta är en temporär mapp. Använde inte denna för att arbeta med ditt projekt.\n",
    "oggm.cfg.PATHS[\"working_dir\"] = utils.gettempdir(dirname=\"see110-project\")\n",
    "# Exempel på absolut sökväg.\n",
    "# oggm.cfg.PATHS[\"working_dir\"] = \"/home/erik/data/see110-project"
   ]
  },
  {
   "cell_type": "markdown",
   "id": "6e4dc0ea-5989-4009-adad-a503c51b1d0f",
   "metadata": {},
   "source": [
    "## Definiera vilka glaciärer vi ska simulera\n",
    "Här laddar vi ner en lista med id-nummer ([Randolph Glacier Inventory](https://nsidc.org/data/nsidc-0770/versions/6), RGI) för så kallade referensglaciärer.\n",
    "Vi använder [Pandas](https://pandas.pydata.org/) för att läsa in listan."
   ]
  },
  {
   "cell_type": "code",
   "execution_count": null,
   "id": "8b2273d4-b065-4c4c-b5c3-7456925b6df8",
   "metadata": {},
   "outputs": [],
   "source": [
    "rgi_df = pd.read_csv(\n",
    "    \"https://raw.githubusercontent.com/OGGM/oggm-sample-data/master/wgms/rgi_wgms_links_20220112.csv\",\n",
    "    header=0,\n",
    ")"
   ]
  },
  {
   "cell_type": "markdown",
   "id": "058e5543-6ca1-4336-980b-27a7f17ef1c5",
   "metadata": {},
   "source": [
    "Vi kan välja ut glaciärerna i Sverige såhär:"
   ]
  },
  {
   "cell_type": "code",
   "execution_count": null,
   "id": "e991775c-e080-414d-9bbc-7503410f0ada",
   "metadata": {},
   "outputs": [],
   "source": [
    "rgi_df[rgi_df.POLITICAL_UNIT == \"SE\"]"
   ]
  },
  {
   "cell_type": "markdown",
   "id": "21a2df59-5583-4f23-a964-94d9d93bbcd4",
   "metadata": {},
   "source": [
    "Den här listan innehåller massor av information, för att köra modellen är det kolumnen `RGI60_ID` vi är intresserade av.\n",
    "Vi kan läsa id-numret för Storglaciären (för övrigt en av glaciärerna med längst observationsserie i världen) och skapa en variabel för detta."
   ]
  },
  {
   "cell_type": "code",
   "execution_count": null,
   "id": "61dfa70a-a6f7-41ae-948a-58e1df458523",
   "metadata": {},
   "outputs": [],
   "source": [
    "# Storglaciären\n",
    "rgi_id = \"RGI60-08.00213\""
   ]
  },
  {
   "cell_type": "markdown",
   "id": "72d4f16b-4baf-4e85-88d6-454ce0929ef3",
   "metadata": {},
   "source": [
    "###  Överkurs: Arbeta direkt med RGI\n",
    "<div class=\"alert alert-info\">\n",
    "   <b>Info: </b>Den här delen kan du hoppa över första gången du går igenom den här notebooken, och helt enkelt scrolla ner till \"Ladda ner glaciärdata\".\n",
    "    Men den kan vara intressant att komma tillbaka till när ni kommit igång med era projekt.\n",
    "</div>\n",
    "    \n",
    "Filen ovan innehåller ett urval av alla glaciärer i världen, men det finns fler än 200 000 stycken!\n",
    "Om ni under ert projekts gång är intresserade av att simulera fler, eller andra, glaciärer än de som finns med i listan ovan behöver ni arbeta med Randolph Glacier Inventory (RGI) direkt.\n",
    "\n",
    "RGI är en stor datamängd som kräver lite kunskap för att hantera på ett smidigt sätt.\n",
    "Det första vi måste göra är att ladda ner all RGI-data.\n",
    "Det gör vi med följande funktion:"
   ]
  },
  {
   "cell_type": "code",
   "execution_count": null,
   "id": "400245be-317a-461f-b0a3-5b3f31e771c8",
   "metadata": {},
   "outputs": [],
   "source": [
    "utils.get_rgi_dir(version=\"62\")"
   ]
  },
  {
   "cell_type": "markdown",
   "id": "5936a1ef-1240-46e3-ab93-2ef3c3864409",
   "metadata": {},
   "source": [
    "RGI-databasen är indelad i regionerna som visas i kartan nedan.\n",
    "Det första vi måste göra för att hitta glaciärerna vi är intresserade av är att välja region.\n",
    "\n",
    "\n",
    "<img alt=\"Världskarta som visar RGI-regionerna\" src=\"https://raw.githubusercontent.com/GLIMS-RGI/rgi_user_guide/main/docs/img/global_stats/global_map.jpeg\" style=\"width:1100px\" />\n",
    "\n",
    "|01 Region|Full name|\n",
    "|--------|---------|\n",
    "|01|Alaska|\n",
    "|02|Western Canada and USA|\n",
    "|03|Arctic Canada North|\n",
    "|04|Arctic Canada South|\n",
    "|05|Greenland Periphery|\n",
    "|06|Iceland|\n",
    "|07|Svalbard and Jan Mayen|\n",
    "|08|Scandinavia|\n",
    "|09|Russian Arctic|\n",
    "|10|North Asia|\n",
    "|11|Central Europe|\n",
    "|12|Caucasus and Middle East|\n",
    "|13|Central Asia|\n",
    "|14|South Asia West|\n",
    "|15|South Asia East|\n",
    "|16|Low Latitudes|\n",
    "|17|Southern Andes|\n",
    "|18|New Zealand|\n",
    "|19|Subantarctic and Antarctic Islands|\n",
    "|20|Antarctic Mainland|\n",
    "\n",
    "\n",
    "För mer info, se: https://www.glims.org/rgi_user_guide/appendix/regions.html#o1-regions-table"
   ]
  },
  {
   "cell_type": "markdown",
   "id": "0b9d26ca-15b8-49a3-8da2-9d4e5d89900e",
   "metadata": {},
   "source": [
    "Här väljer vi ut region 08, Skandinavien:"
   ]
  },
  {
   "cell_type": "code",
   "execution_count": null,
   "id": "b5fdcf1e-c242-416e-9ab8-c01388065b2a",
   "metadata": {},
   "outputs": [],
   "source": [
    "file_path = utils.get_rgi_region_file(\"08\")"
   ]
  },
  {
   "cell_type": "markdown",
   "id": "743ff10b-ea61-42c5-a5f7-33ee257b520c",
   "metadata": {},
   "source": [
    "Filen som sökvägen ovan pekar på är en så kallad shapefil, som lagrar geografisk data.\n",
    "\n",
    "Vi kan öppna den med `GeoPandas`, här förkortat som `gpd`:"
   ]
  },
  {
   "cell_type": "code",
   "execution_count": null,
   "id": "b19cf235-8a94-4667-882d-cce58c030fcc",
   "metadata": {},
   "outputs": [],
   "source": [
    "gdf = gpd.read_file(file_path)"
   ]
  },
  {
   "cell_type": "markdown",
   "id": "6cdc33bf-12c5-4eea-856b-702d599cdb67",
   "metadata": {},
   "source": [
    "Här ser vi att första kolumnen innehåller `RGIID`, medan andra kolumner innehåller t.ex. area, meidanhöjd (Zmed), och lutning (Slope)."
   ]
  },
  {
   "cell_type": "code",
   "execution_count": null,
   "id": "82babce1-2ad6-412e-9f01-59c8a31a8e1e",
   "metadata": {},
   "outputs": [],
   "source": [
    "gdf.head()"
   ]
  },
  {
   "cell_type": "markdown",
   "id": "47255320-29a2-4b8b-b380-e4c190222639",
   "metadata": {},
   "source": [
    "Vi kan också kolla hur många glaciärer det finns i regionen:"
   ]
  },
  {
   "cell_type": "code",
   "execution_count": null,
   "id": "efcbf96c-1aa9-47ac-8836-7bcc7883d78c",
   "metadata": {},
   "outputs": [],
   "source": [
    "len(gdf)"
   ]
  },
  {
   "cell_type": "markdown",
   "id": "4d5b0741-fcdd-45b6-9ad3-bdaeac09b9b8",
   "metadata": {},
   "source": [
    "Detta är lite för många glaciärer att simulera för det här projektet, med tanke på vilka resurser ni har, så ni behöver fundera på hur ni kan välja ut en grupp glaciärer som passar in i era frågeställningar. \n",
    "\n",
    "Nedan följer ett exempel där vi väljer ut alla glaciärer som är större än 2 km<sup>2</sup>, och har ett namn."
   ]
  },
  {
   "cell_type": "code",
   "execution_count": null,
   "id": "6606fce9-1c17-4254-9c0e-5be6109bd237",
   "metadata": {},
   "outputs": [],
   "source": [
    "gdf_selection = gdf[gdf.Area > 2]"
   ]
  },
  {
   "cell_type": "code",
   "execution_count": null,
   "id": "479cb7fe-d746-4033-9e6f-4e506cbe343a",
   "metadata": {},
   "outputs": [],
   "source": [
    "gdf_selection = gdf_selection[~gdf_selection.Name.isnull()]"
   ]
  },
  {
   "cell_type": "markdown",
   "id": "27aa51c1-121d-4cf8-9e7b-12518866fefd",
   "metadata": {},
   "source": [
    "Hur många glaciärer är kvar?"
   ]
  },
  {
   "cell_type": "code",
   "execution_count": null,
   "id": "4b2e892e-292a-4041-bdcf-ec8cb55d5dc8",
   "metadata": {},
   "outputs": [],
   "source": [
    "len(gdf_selection)"
   ]
  },
  {
   "cell_type": "markdown",
   "id": "6b2b1f28-26f8-494a-bf6a-c751cbfeb32f",
   "metadata": {},
   "source": [
    "Vi kan dela upp detta ytterligare genom att titta på under-regionerna i Skandinavien.\n",
    "Tar vi en titt på [följande sida](https://www.glims.org/rgi_user_guide/appendix/regions.html#second-order-regions), ser vi att Skandinavien har följande under-regioner:\n",
    "- 1 : North Scandinavia\n",
    "- 2 : Southwest Scandinavia\n",
    "- 3 : Southeast Scandinavia\n",
    "\n",
    "Vi väljer ut alla glaciärer i Southwest Scandinavia såhär:"
   ]
  },
  {
   "cell_type": "code",
   "execution_count": null,
   "id": "067a1538-298f-4aaa-a09b-f079296032e6",
   "metadata": {},
   "outputs": [],
   "source": [
    "n_scand = gdf_selection[gdf_selection['O2Region'] == \"1\"]"
   ]
  },
  {
   "cell_type": "markdown",
   "id": "b044801a-0e86-419a-b200-40d89c01c8e4",
   "metadata": {},
   "source": [
    "Vi tar sedan fram deras respektive RGI_ID såhär:"
   ]
  },
  {
   "cell_type": "code",
   "execution_count": null,
   "id": "060a9516-d447-4887-93b1-94b4211d662f",
   "metadata": {},
   "outputs": [],
   "source": [
    "rgi_ids = n_scand.RGIId"
   ]
  },
  {
   "cell_type": "markdown",
   "id": "812c8353-8440-4f22-80a6-163b2d4b37c0",
   "metadata": {},
   "source": [
    "Vilka vi kan använda för att köra våra simuleringar."
   ]
  },
  {
   "cell_type": "markdown",
   "id": "3ac07d63-e7c6-42fd-9889-c5e092df50a2",
   "metadata": {},
   "source": [
    "### Ladda ner glaciärdata"
   ]
  },
  {
   "cell_type": "markdown",
   "id": "7bde076b-d00d-4b98-9bda-8da21328f49c",
   "metadata": {},
   "source": [
    "Nästa steg är att ladda ner den data som behövs för att köra modellen för glaciären vi har valt ut.\n",
    "Här behöver vi ange några parametrar som kontrollerar vilken typ av input-data vi kommer använda, men detta är inget du behöver förstå nu.\n",
    "Notera dock att vi skickar med vår `rgi_id` variabel i en lista.\n",
    "Mer om detta senare.\n",
    "\n",
    "Detta kan ta några minuter."
   ]
  },
  {
   "cell_type": "code",
   "execution_count": null,
   "id": "cae0617e-a02b-447e-b8db-5d1ab75b9253",
   "metadata": {},
   "outputs": [],
   "source": [
    "# We pick the elevation-bands glaciers because they run a bit faster - but they create more step changes in the area outputs\n",
    "base_url = \"https://cluster.klima.uni-bremen.de/~oggm/gdirs/oggm_v1.6/L3-L5_files/2023.3/elev_bands/W5E5_spinup\""
   ]
  },
  {
   "cell_type": "code",
   "execution_count": null,
   "id": "0d3ec256-f347-430a-8006-4e269f6338ce",
   "metadata": {},
   "outputs": [],
   "source": [
    "# Download gdir for a single rgi_id.\n",
    "gdir = workflow.init_glacier_directories(\n",
    "    [rgi_id], from_prepro_level=5, prepro_border=160, prepro_base_url=base_url\n",
    ")[0]\n"
   ]
  },
  {
   "cell_type": "markdown",
   "id": "42a7e6ee-1f4d-40c7-9e78-144c0d4910cc",
   "metadata": {},
   "source": [
    "Cellen ovan returnerar något som kallas för en `GlacierDirectory` - vilket förkortas `gdir` (och vårt variabelnamn).\n",
    "En `gdir` innehåller all information om en glaciär som modellen behöver."
   ]
  },
  {
   "cell_type": "markdown",
   "id": "444bbee6-771e-4c83-8a40-f0752ad781da",
   "metadata": {},
   "source": [
    "### Interaktiv karta\n",
    "Med `see110_utils.plot_glacier_map` kan vi visa en interaktiv karta över glaciären i `gdir`:"
   ]
  },
  {
   "cell_type": "code",
   "execution_count": null,
   "id": "0320039c-2dd5-4227-ade4-e6dc3cd677f1",
   "metadata": {},
   "outputs": [],
   "source": [
    "out = see110_utils.plot_glacier_map(gdir)\n",
    "out"
   ]
  },
  {
   "cell_type": "markdown",
   "id": "b1721dff-a44a-46fb-bb18-72b55f50135a",
   "metadata": {},
   "source": [
    "## Historiska simuleringar\n",
    "Input-datan vi använder inkluderar något som kallas för en \"spinup\".\n",
    "Detta är en simulering av glaciären som försöker återskapa hur glaciären kan ha sett ut historiskt.\n",
    "Då det för de flesta av världens glaciärer finns inga, eller väldigt få, observationer är detta svårt, och utanför vad vi behöver kunna för den här kursen.\n",
    "Men kort innefattar det att iterativt hitta en kombination av en historisk glaciärarea och modellparametrar som leder till att en historisk simulering resulterar i att arean för den simulerade glaciären matchar de tidigaste observationerna.\n",
    "\n",
    "Nedan öppnar vi filen med spinup-datan och plottar volymen och arean från 1979."
   ]
  },
  {
   "cell_type": "code",
   "execution_count": null,
   "id": "ff61dea4-1beb-4a3e-aa2c-be7c9c3fc0a2",
   "metadata": {},
   "outputs": [],
   "source": [
    "with xr.open_dataset(\n",
    "    gdir.get_filepath(\"model_diagnostics\", filesuffix=\"_spinup_historical\")\n",
    ") as ds:\n",
    "    ds = ds.sel(time=slice(1980, 2020)).load()"
   ]
  },
  {
   "cell_type": "code",
   "execution_count": null,
   "id": "49890cb0-9405-483e-b244-b4176878cd23",
   "metadata": {},
   "outputs": [],
   "source": [
    "fig, axs = plt.subplots(nrows=2, figsize=(10, 7), sharex=True)\n",
    "ds.volume_m3.plot(ax=axs[0])\n",
    "ds.area_m2.plot(ax=axs[1])\n",
    "axs[1].scatter(\n",
    "    gdir.rgi_date + 1, gdir.rgi_area_m2, label=f\"Area {gdir.rgi_date+1}\", c=\"C1\"\n",
    ")\n",
    "axs[0].set_xlabel(\"\")\n",
    "axs[0].set_title(f\"{rgi_id}\")\n",
    "axs[1].set_xlabel(\"Years\")\n",
    "plt.legend();"
   ]
  },
  {
   "cell_type": "markdown",
   "id": "8f9015cc-051e-4e6f-bb8f-3b2b8d179e68",
   "metadata": {},
   "source": [
    "Här kan vi att arean för den historiska simuleringen stämmer relativt väl med obsevationen från 2003."
   ]
  },
  {
   "cell_type": "markdown",
   "id": "dc74dace-03e7-4bb5-af9b-dea24c916e1d",
   "metadata": {},
   "source": [
    "## Simulera glaciärer under 2000-talet\n",
    "\n",
    "Nu är det dags att göra några simuleringar för de kommande ~80 åren.\n",
    "Först ska vi välja vilka glaciärer vi vill simulera och förbereda input-datan (gdirs) för dessa.\n",
    "\n",
    "Här väljer vi ut alla referensglaciärer i Sverige:"
   ]
  },
  {
   "cell_type": "code",
   "execution_count": null,
   "id": "60dbf04f-5312-487e-9264-dd0ab1d32c63",
   "metadata": {},
   "outputs": [],
   "source": [
    "rgi_ids = rgi_df[rgi_df.POLITICAL_UNIT == \"SE\"].RGI60_ID.values\n",
    "print(rgi_ids)"
   ]
  },
  {
   "cell_type": "markdown",
   "id": "41d90d3d-70c3-48d2-8d06-a8dbadcc5f3f",
   "metadata": {},
   "source": [
    "och laddar ner inputdatan:"
   ]
  },
  {
   "cell_type": "code",
   "execution_count": null,
   "id": "f8cf08f2-15df-45de-a059-a47418969ab5",
   "metadata": {},
   "outputs": [],
   "source": [
    "gdirs = workflow.init_glacier_directories(\n",
    "    rgi_ids, from_prepro_level=5, prepro_border=160, prepro_base_url=base_url\n",
    ")"
   ]
  },
  {
   "cell_type": "markdown",
   "id": "ef765343-47bc-4ca5-bdf6-fc88d7166661",
   "metadata": {},
   "source": [
    "Notera att `gdirs` nu är en lista med data för sju glaciärer."
   ]
  },
  {
   "cell_type": "code",
   "execution_count": null,
   "id": "8435c0fd-6637-43fd-a9ea-f66e7758f1ac",
   "metadata": {},
   "outputs": [],
   "source": [
    "# Ta bort kommentaren för att se vad gdirs innehåller.\n",
    "# gdirs"
   ]
  },
  {
   "cell_type": "markdown",
   "id": "1a8b75a8-536c-491c-843b-1716a36747ec",
   "metadata": {},
   "source": [
    "Vi kan visa en karta för någon av glaciärerna i listan:"
   ]
  },
  {
   "cell_type": "code",
   "execution_count": null,
   "id": "e4aa38a5-e96e-4ee5-9a44-d929f66c91c6",
   "metadata": {},
   "outputs": [],
   "source": [
    "out = see110_utils.plot_glacier_map(gdirs[0])\n",
    "out"
   ]
  },
  {
   "cell_type": "markdown",
   "id": "1353d264-d2d2-4268-b136-1ac8ad628d4d",
   "metadata": {},
   "source": [
    "### Data för klimatprojektioner\n",
    "För att modellera glaciärerna fram till 2100 måste vi först ladda ner och förbereda klimatprojektioner från en global klimatmodell (eller flera). \n",
    "Här kan du välja en av följande:\n",
    "\n",
    "|Modell|\n",
    "|----|\n",
    "|gfdl-esm4_r1i1p1f1 |\n",
    "|mpi-esm1-2-hr_r1i1p1f1 |\n",
    "|mri-esm2-0_r1i1p1f1 |\n",
    "|ipsl-cm6a-lr_r1i1p1f1 |\n",
    "|ukesm1-0-ll_r1i1p1f2 |\n",
    "\n",
    "och vi definiera variabeln `member`:"
   ]
  },
  {
   "cell_type": "code",
   "execution_count": null,
   "id": "bf18fb3c-94e1-47fa-9c3f-c67509ed6bfb",
   "metadata": {},
   "outputs": [],
   "source": [
    "member = \"mpi-esm1-2-hr_r1i1p1f1\""
   ]
  },
  {
   "cell_type": "markdown",
   "id": "03b04b83-9bdc-4e1e-9851-4a87dddbc46a",
   "metadata": {},
   "source": [
    "Du behöver också välja vilket SSP-scenario du vill använda (ssp126, ssp370, ssp585).\n",
    "Liknande innan, definierar vi variabeln `ssps`, som kommer användas i följande celler.\n",
    "Notera att detta är en lista som kan hålla ett eller flera ssp scenarion."
   ]
  },
  {
   "cell_type": "code",
   "execution_count": null,
   "id": "ac504e57-e987-40e5-ab09-b926c2eb7055",
   "metadata": {},
   "outputs": [],
   "source": [
    "ssps = [\"ssp126\"]"
   ]
  },
  {
   "cell_type": "markdown",
   "id": "9502fde2-0fcf-4017-8329-85b22396cc64",
   "metadata": {},
   "source": [
    "Cellen nedan laddar ner och förbehandlar datan."
   ]
  },
  {
   "cell_type": "code",
   "execution_count": null,
   "id": "f7486988-ecc7-44c2-a7a8-5b8e80372e42",
   "metadata": {},
   "outputs": [],
   "source": [
    "from oggm.shop import gcm_climate\n",
    "\n",
    "# Download the three main SSPs\n",
    "for ssp in ssps:\n",
    "    # bias correct them\n",
    "    workflow.execute_entity_task(\n",
    "        gcm_climate.process_monthly_isimip_data,\n",
    "        gdirs,\n",
    "        ssp=ssp,\n",
    "        # gcm member -> you can choose another one\n",
    "        member=member,\n",
    "        # recognize the climate file for later\n",
    "        output_filesuffix=f\"_ISIMIP3b_{member}_{ssp}\",\n",
    "    );"
   ]
  },
  {
   "cell_type": "markdown",
   "id": "2cf66803-041b-4d28-ba02-c71935599a2a",
   "metadata": {},
   "source": [
    "### Simulera glaciärerna\n",
    "\n",
    "Nu är du redo att starta simuleringarna."
   ]
  },
  {
   "cell_type": "code",
   "execution_count": null,
   "id": "e6422199-e3ae-49b4-b01e-7a83adecffc9",
   "metadata": {},
   "outputs": [],
   "source": [
    "# Först loopar vi över ssp scenarion.\n",
    "for ssp in ssps:\n",
    "    # Här definierar vi namnet på datan som vi vill använda.\n",
    "    rid = f\"_ISIMIP3b_{member}_{ssp}\"\n",
    "    # Funktion som kör modellen.\n",
    "    workflow.execute_entity_task(\n",
    "        # Vi specifierar att vi vill köra modellen med hydrologiska outputs påslagna.\n",
    "        tasks.run_with_hydro,\n",
    "        # Vilka gdirs ska modellin köras på.\n",
    "        gdirs,\n",
    "        # Modellen ska köras från klimatdata.\n",
    "        run_task=tasks.run_from_climate_data,\n",
    "        # Specifiera vilket år körningen ska börja.\n",
    "        ys=2020,\n",
    "        # use gcm_data, not climate_historical\n",
    "        climate_filename=\"gcm_data\",\n",
    "        # use the chosen scenario\n",
    "        climate_input_filesuffix=rid,\n",
    "        # this is important! Start from 2020 glacier\n",
    "        init_model_filesuffix=\"_spinup_historical\",\n",
    "        # recognize the run for later\n",
    "        output_filesuffix=rid,\n",
    "        # add monthly diagnostics\n",
    "        store_monthly_hydro=True,\n",
    "    );"
   ]
  },
  {
   "cell_type": "markdown",
   "id": "6ba95a32-ee80-427b-aadb-fddba08eeca5",
   "metadata": {},
   "source": [
    "### En snabbtitt på datan\n",
    "Körningen ovan genererar en fil per glaciär och modell och SSP-scenario.\n",
    "För att enklare analysera datan kan vi slå samman dessa med hjälp av `utils.compile_run_output`.\n",
    "\n",
    "Detta kommer även spara den sammanslagna datan som en netcdf fil i din `WORKING_DIR`."
   ]
  },
  {
   "cell_type": "code",
   "execution_count": null,
   "id": "6770ad4a-042a-4d7a-9929-9edc39dcc04d",
   "metadata": {},
   "outputs": [],
   "source": [
    "# Här kombinerar vi de separata filerna till en.\n",
    "ds = utils.compile_run_output(gdirs, input_filesuffix=rid)"
   ]
  },
  {
   "cell_type": "markdown",
   "id": "dd6e51be-8320-4f8a-befa-525563a191ef",
   "metadata": {},
   "source": [
    "Variabeln `ds` är här ett så kallat dataset från biblioteket [xarray](https://xarray.dev/).\n",
    "Ett dataset representerar en, eller flera netcdf-filer, och gör det relativt enkelt att analysera och visualisera den underliggande datan.\n",
    "Kör vi en cell med endast variabeln `ds` kan vi se vad det innehåller."
   ]
  },
  {
   "cell_type": "code",
   "execution_count": null,
   "id": "145274dd-35f7-4063-a0a0-dd0b35de88ea",
   "metadata": {},
   "outputs": [],
   "source": [
    "ds"
   ]
  },
  {
   "cell_type": "markdown",
   "id": "d57efb6a-1015-48a3-a862-c1a4066846b7",
   "metadata": {},
   "source": [
    "Nedan plottar vi volymen för glaciärerna vi simulerat från 2020 till 2100.\n",
    "Vi inkluderar också den totala volymen för alla glaciärerna genom summera över id-numret `.sum(\"rgi_id\")`."
   ]
  },
  {
   "cell_type": "code",
   "execution_count": null,
   "id": "b5615a01-c106-4ce5-b9bd-0da3eaeff7a3",
   "metadata": {},
   "outputs": [],
   "source": [
    "# Först loopar vi över de individuella glaciärerna i datasetet.\n",
    "#for rgi_id in ds.rgi_id.values:\n",
    "#    sel = ds.volume.sel(rgi_id=rgi_id)\n",
    "#    sel.plot(label=sel.rgi_id.values, c=\"C0\")\n",
    "#\n",
    "ds.volume.sum(\"rgi_id\").plot(label=\"Median\")\n",
    "#plt.legend()\n",
    "plt.title(f\"Glaciärvolym i Sverige för\\n{member}, {ssp}\");"
   ]
  },
  {
   "cell_type": "markdown",
   "id": "ed2ab379-3112-4b9d-9d57-d64520169179",
   "metadata": {},
   "source": [
    "## Fortsatt arbete med ditt projekt\n",
    "Nu är det dags att fortsätta med analysen för ditt projekt.\n",
    "Du kan helt enkelt fortsätta med att lägga till nya celler här under, eller så skapar du en ny notebook.\n",
    "Kom i så fall ihåg att kopiera över cellerna som importerar de bibliotek du behöver och konfigurerar OGGM.\n",
    "\n",
    "Lycka till!"
   ]
  }
 ],
 "metadata": {
  "kernelspec": {
   "display_name": "Python 3 (ipykernel)",
   "language": "python",
   "name": "python3"
  },
  "language_info": {
   "codemirror_mode": {
    "name": "ipython",
    "version": 3
   },
   "file_extension": ".py",
   "mimetype": "text/x-python",
   "name": "python",
   "nbconvert_exporter": "python",
   "pygments_lexer": "ipython3",
   "version": "3.12.3"
  }
 },
 "nbformat": 4,
 "nbformat_minor": 5
}
